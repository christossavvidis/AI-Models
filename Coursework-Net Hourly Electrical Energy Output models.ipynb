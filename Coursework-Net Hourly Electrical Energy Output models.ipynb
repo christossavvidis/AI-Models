{
 "cells": [
  {
   "cell_type": "markdown",
   "id": "254e747f-22a6-4f3c-882a-eb87368ea466",
   "metadata": {},
   "source": [
    "# Load the dataset"
   ]
  },
  {
   "cell_type": "code",
   "execution_count": 1,
   "id": "b03ddd50-82f5-43b1-bc4b-0ccd42a9d516",
   "metadata": {},
   "outputs": [],
   "source": [
    "# Import libraries\n",
    "import numpy as np\n",
    "import pandas as pd\n",
    "import matplotlib.pyplot as plt\n",
    "\n",
    "# for building linear regression models and preparing data\n",
    "from sklearn.linear_model import LinearRegression\n",
    "from sklearn.preprocessing import StandardScaler, PolynomialFeatures\n",
    "from sklearn.model_selection import train_test_split\n",
    "from sklearn.metrics import mean_squared_error"
   ]
  },
  {
   "cell_type": "code",
   "execution_count": 2,
   "id": "31be3843-2bbe-4fde-91b8-ac595035f803",
   "metadata": {},
   "outputs": [
    {
     "name": "stdout",
     "output_type": "stream",
     "text": [
      "      AT      V       AP     RH      PE\n",
      "0  14.96  41.76  1024.07  73.17  463.26\n",
      "1  25.18  62.96  1020.04  59.08  444.37\n",
      "2   5.11  39.40  1012.16  92.14  488.56\n",
      "3  20.86  57.32  1010.24  76.64  446.48\n",
      "4  10.82  37.50  1009.23  96.62  473.90\n",
      "Shape of the Dataset: (9568, 5)\n"
     ]
    }
   ],
   "source": [
    "# Load the dataset \n",
    "file_path = 'AICourses/CCPP_data.csv'  # Replace with the actual path to your file\n",
    "df = pd.read_csv(file_path)\n",
    "print(df.head())\n",
    "print(\"Shape of the Dataset: {}\".format(df.shape))"
   ]
  },
  {
   "cell_type": "code",
   "execution_count": 3,
   "id": "2c1cf361-30e8-4001-9ea4-41c46b32cffa",
   "metadata": {},
   "outputs": [],
   "source": [
    "# Separate input features from the target \n",
    "X = df.drop(\"PE\", axis=1).values\n",
    "y = df[\"PE\"].values"
   ]
  },
  {
   "cell_type": "markdown",
   "id": "fb381d11-aef6-4ead-b009-444969111f76",
   "metadata": {},
   "source": [
    "# Split the dataset into train set, cross validation and test set"
   ]
  },
  {
   "cell_type": "code",
   "execution_count": 4,
   "id": "53244aa2-4c9d-4637-ac59-f7ad621b9075",
   "metadata": {},
   "outputs": [
    {
     "name": "stdout",
     "output_type": "stream",
     "text": [
      "the shape of the training set (input) is: (5740, 4)\n",
      "the shape of the training set (target) is: (5740,)\n",
      "\n",
      "the shape of the cross validation set (input) is: (1914, 4)\n",
      "the shape of the cross validation set (target) is: (1914,)\n",
      "\n",
      "the shape of the test set (input) is: (1914, 4)\n",
      "the shape of the test set (target) is: (1914,)\n"
     ]
    }
   ],
   "source": [
    "# 60% for training set, put the remaining 40% in temp vars X_and y_\n",
    "X_train, X_, y_train, y_ = train_test_split(X, y, test_size=0.40, random_state=1)\n",
    "\n",
    "# Split the 40% subset above into two: one half for cross validation and the other for the test set\n",
    "X_cv, X_test, y_cv, y_test = train_test_split(X_, y_, test_size=0.50, random_state=1)\n",
    "\n",
    "# Delete temp vars X_ and y_\n",
    "del X_, y_\n",
    "\n",
    "print(f\"the shape of the training set (input) is: {X_train.shape}\")\n",
    "print(f\"the shape of the training set (target) is: {y_train.shape}\\n\")\n",
    "print(f\"the shape of the cross validation set (input) is: {X_cv.shape}\")\n",
    "print(f\"the shape of the cross validation set (target) is: {y_cv.shape}\\n\")\n",
    "print(f\"the shape of the test set (input) is: {X_test.shape}\")\n",
    "print(f\"the shape of the test set (target) is: {y_test.shape}\")"
   ]
  },
  {
   "cell_type": "markdown",
   "id": "a1208f6c-13f7-4f9b-9704-a3884178cec7",
   "metadata": {},
   "source": [
    "# Fit a linear model"
   ]
  },
  {
   "cell_type": "markdown",
   "id": "6a0d4502-ace3-4b4a-b402-f45726544fb7",
   "metadata": {},
   "source": [
    "## Feature Scaling"
   ]
  },
  {
   "cell_type": "code",
   "execution_count": 5,
   "id": "c0789e81-1095-49a8-97e4-ef29fe97c760",
   "metadata": {},
   "outputs": [
    {
     "name": "stdout",
     "output_type": "stream",
     "text": [
      "Computed mean of the training set: [  19.67207143   54.40489199 1013.2856777    73.25630488]\n",
      "Computed standard deviation of the training set: [ 7.45372735 12.6884619   5.98016707 14.71527369]\n"
     ]
    }
   ],
   "source": [
    "# Initialize the class\n",
    "scaler_linear = StandardScaler()\n",
    "\n",
    "# Compute the mean and standard deviation of the training set then transform it\n",
    "X_train_scaled = scaler_linear.fit_transform(X_train)\n",
    "\n",
    "print(f\"Computed mean of the training set: {scaler_linear.mean_.squeeze()}\")\n",
    "print(f\"Computed standard deviation of the training set: {scaler_linear.scale_.squeeze()}\")"
   ]
  },
  {
   "cell_type": "markdown",
   "id": "7ff574b3-e098-4fe2-89e0-9a3372c8ba97",
   "metadata": {},
   "source": [
    "## Train the model"
   ]
  },
  {
   "cell_type": "code",
   "execution_count": 6,
   "id": "78e6a6e4-17d3-4af8-8117-3b9662ad02ed",
   "metadata": {},
   "outputs": [
    {
     "data": {
      "text/html": [
       "<style>#sk-container-id-1 {color: black;}#sk-container-id-1 pre{padding: 0;}#sk-container-id-1 div.sk-toggleable {background-color: white;}#sk-container-id-1 label.sk-toggleable__label {cursor: pointer;display: block;width: 100%;margin-bottom: 0;padding: 0.3em;box-sizing: border-box;text-align: center;}#sk-container-id-1 label.sk-toggleable__label-arrow:before {content: \"▸\";float: left;margin-right: 0.25em;color: #696969;}#sk-container-id-1 label.sk-toggleable__label-arrow:hover:before {color: black;}#sk-container-id-1 div.sk-estimator:hover label.sk-toggleable__label-arrow:before {color: black;}#sk-container-id-1 div.sk-toggleable__content {max-height: 0;max-width: 0;overflow: hidden;text-align: left;background-color: #f0f8ff;}#sk-container-id-1 div.sk-toggleable__content pre {margin: 0.2em;color: black;border-radius: 0.25em;background-color: #f0f8ff;}#sk-container-id-1 input.sk-toggleable__control:checked~div.sk-toggleable__content {max-height: 200px;max-width: 100%;overflow: auto;}#sk-container-id-1 input.sk-toggleable__control:checked~label.sk-toggleable__label-arrow:before {content: \"▾\";}#sk-container-id-1 div.sk-estimator input.sk-toggleable__control:checked~label.sk-toggleable__label {background-color: #d4ebff;}#sk-container-id-1 div.sk-label input.sk-toggleable__control:checked~label.sk-toggleable__label {background-color: #d4ebff;}#sk-container-id-1 input.sk-hidden--visually {border: 0;clip: rect(1px 1px 1px 1px);clip: rect(1px, 1px, 1px, 1px);height: 1px;margin: -1px;overflow: hidden;padding: 0;position: absolute;width: 1px;}#sk-container-id-1 div.sk-estimator {font-family: monospace;background-color: #f0f8ff;border: 1px dotted black;border-radius: 0.25em;box-sizing: border-box;margin-bottom: 0.5em;}#sk-container-id-1 div.sk-estimator:hover {background-color: #d4ebff;}#sk-container-id-1 div.sk-parallel-item::after {content: \"\";width: 100%;border-bottom: 1px solid gray;flex-grow: 1;}#sk-container-id-1 div.sk-label:hover label.sk-toggleable__label {background-color: #d4ebff;}#sk-container-id-1 div.sk-serial::before {content: \"\";position: absolute;border-left: 1px solid gray;box-sizing: border-box;top: 0;bottom: 0;left: 50%;z-index: 0;}#sk-container-id-1 div.sk-serial {display: flex;flex-direction: column;align-items: center;background-color: white;padding-right: 0.2em;padding-left: 0.2em;position: relative;}#sk-container-id-1 div.sk-item {position: relative;z-index: 1;}#sk-container-id-1 div.sk-parallel {display: flex;align-items: stretch;justify-content: center;background-color: white;position: relative;}#sk-container-id-1 div.sk-item::before, #sk-container-id-1 div.sk-parallel-item::before {content: \"\";position: absolute;border-left: 1px solid gray;box-sizing: border-box;top: 0;bottom: 0;left: 50%;z-index: -1;}#sk-container-id-1 div.sk-parallel-item {display: flex;flex-direction: column;z-index: 1;position: relative;background-color: white;}#sk-container-id-1 div.sk-parallel-item:first-child::after {align-self: flex-end;width: 50%;}#sk-container-id-1 div.sk-parallel-item:last-child::after {align-self: flex-start;width: 50%;}#sk-container-id-1 div.sk-parallel-item:only-child::after {width: 0;}#sk-container-id-1 div.sk-dashed-wrapped {border: 1px dashed gray;margin: 0 0.4em 0.5em 0.4em;box-sizing: border-box;padding-bottom: 0.4em;background-color: white;}#sk-container-id-1 div.sk-label label {font-family: monospace;font-weight: bold;display: inline-block;line-height: 1.2em;}#sk-container-id-1 div.sk-label-container {text-align: center;}#sk-container-id-1 div.sk-container {/* jupyter's `normalize.less` sets `[hidden] { display: none; }` but bootstrap.min.css set `[hidden] { display: none !important; }` so we also need the `!important` here to be able to override the default hidden behavior on the sphinx rendered scikit-learn.org. See: https://github.com/scikit-learn/scikit-learn/issues/21755 */display: inline-block !important;position: relative;}#sk-container-id-1 div.sk-text-repr-fallback {display: none;}</style><div id=\"sk-container-id-1\" class=\"sk-top-container\"><div class=\"sk-text-repr-fallback\"><pre>LinearRegression()</pre><b>In a Jupyter environment, please rerun this cell to show the HTML representation or trust the notebook. <br />On GitHub, the HTML representation is unable to render, please try loading this page with nbviewer.org.</b></div><div class=\"sk-container\" hidden><div class=\"sk-item\"><div class=\"sk-estimator sk-toggleable\"><input class=\"sk-toggleable__control sk-hidden--visually\" id=\"sk-estimator-id-1\" type=\"checkbox\" checked><label for=\"sk-estimator-id-1\" class=\"sk-toggleable__label sk-toggleable__label-arrow\">LinearRegression</label><div class=\"sk-toggleable__content\"><pre>LinearRegression()</pre></div></div></div></div></div>"
      ],
      "text/plain": [
       "LinearRegression()"
      ]
     },
     "execution_count": 6,
     "metadata": {},
     "output_type": "execute_result"
    }
   ],
   "source": [
    "# Initialize the class\n",
    "linear_model = LinearRegression()\n",
    "\n",
    "# Train the model\n",
    "linear_model.fit(X_train_scaled, y_train)"
   ]
  },
  {
   "cell_type": "markdown",
   "id": "920c550f-a3ac-4476-a3d0-62f1e96abcd6",
   "metadata": {},
   "source": [
    "## Evaluate the model"
   ]
  },
  {
   "cell_type": "markdown",
   "id": "cc491da6-0ce3-4334-9fde-d2506b3cf2f5",
   "metadata": {},
   "source": [
    "Use of the following formula to calculate the MSE for training and cross validation sets\n",
    "\n",
    "$$J_{train}(\\vec{w}, b) = \\frac{1}{2m_{train}}\\left[\\sum_{i=1}^{m_{train}}(f_{\\vec{w},b}(\\vec{x}_{train}^{(i)}) - y_{train}^{(i)})^2\\right]$$"
   ]
  },
  {
   "cell_type": "code",
   "execution_count": 7,
   "id": "f1a370cf-6eab-4d03-957e-c3bcbfe73c7c",
   "metadata": {},
   "outputs": [
    {
     "name": "stdout",
     "output_type": "stream",
     "text": [
      "training MSE (using sklearn function): 10.569948141372015\n"
     ]
    }
   ],
   "source": [
    "# Feed the scaled training set and get the predictions\n",
    "yhat = linear_model.predict(X_train_scaled)\n",
    "\n",
    "# Use scikit-learn's utility function and divide by 2\n",
    "print(f\"training MSE (using sklearn function): {mean_squared_error(y_train, yhat) / 2}\")"
   ]
  },
  {
   "cell_type": "markdown",
   "id": "f9d1eecd-9da2-4da7-a6e6-bab012121f83",
   "metadata": {},
   "source": [
    "### Scale the cross validation set"
   ]
  },
  {
   "cell_type": "code",
   "execution_count": 8,
   "id": "d7ececb2-08e5-4b44-aae6-5b68f16ceb28",
   "metadata": {},
   "outputs": [
    {
     "name": "stdout",
     "output_type": "stream",
     "text": [
      "Mean used to scale the CV set: [  19.67207143   54.40489199 1013.2856777    73.25630488]\n",
      "Standard deviation used to scale the CV set: [ 7.45372735 12.6884619   5.98016707 14.71527369]\n",
      "Cross validation MSE: 9.990908259144481\n"
     ]
    }
   ],
   "source": [
    "# Scale the cross validation set using the mean and standard deviation of the training set\n",
    "X_cv_scaled = scaler_linear.transform(X_cv)\n",
    "\n",
    "print(f\"Mean used to scale the CV set: {scaler_linear.mean_.squeeze()}\")\n",
    "print(f\"Standard deviation used to scale the CV set: {scaler_linear.scale_.squeeze()}\")\n",
    "\n",
    "# Feed the scaled cross validation set\n",
    "yhat = linear_model.predict(X_cv_scaled)\n",
    "\n",
    "# Use scikit-learn's utility function and divide by 2\n",
    "print(f\"Cross validation MSE: {mean_squared_error(y_cv, yhat) / 2}\")"
   ]
  },
  {
   "cell_type": "markdown",
   "id": "012045b2-3216-4011-b829-74c7df86fd1e",
   "metadata": {},
   "source": [
    "# Adding polynomial features"
   ]
  },
  {
   "cell_type": "markdown",
   "id": "d373836b-7219-447c-a5ed-093e17f4373f",
   "metadata": {},
   "source": [
    "## Create additional features"
   ]
  },
  {
   "cell_type": "code",
   "execution_count": 9,
   "id": "6320de73-eb80-4c96-94f2-6e09690b7e6f",
   "metadata": {},
   "outputs": [
    {
     "name": "stdout",
     "output_type": "stream",
     "text": [
      "[[1.78900000e+01 4.47800000e+01 1.01003000e+03 5.37800000e+01\n",
      "  3.20052100e+02 8.01114200e+02 1.80694367e+04 9.62124200e+02\n",
      "  2.00524840e+03 4.52291434e+04 2.40826840e+03 1.02016060e+06\n",
      "  5.43194134e+04 2.89228840e+03]\n",
      " [1.03700000e+01 4.00300000e+01 1.01747000e+03 9.04700000e+01\n",
      "  1.07536900e+02 4.15111100e+02 1.05511639e+04 9.38173900e+02\n",
      "  1.60240090e+03 4.07293241e+04 3.62151410e+03 1.03524520e+06\n",
      "  9.20505109e+04 8.18482090e+03]\n",
      " [6.67000000e+00 3.93300000e+01 1.01107000e+03 9.19600000e+01\n",
      "  4.44889000e+01 2.62331100e+02 6.74383690e+03 6.13373200e+02\n",
      "  1.54684890e+03 3.97653831e+04 3.61678680e+03 1.02226254e+06\n",
      "  9.29779972e+04 8.45664160e+03]\n",
      " [8.37000000e+00 4.09200000e+01 1.02182000e+03 8.60300000e+01\n",
      "  7.00569000e+01 3.42500400e+02 8.55263340e+03 7.20071100e+02\n",
      "  1.67444640e+03 4.18128744e+04 3.52034760e+03 1.04411611e+06\n",
      "  8.79071746e+04 7.40116090e+03]\n",
      " [3.38000000e+00 4.13100000e+01 9.98790000e+02 9.77600000e+01\n",
      "  1.14244000e+01 1.39627800e+02 3.37591020e+03 3.30428800e+02\n",
      "  1.70651610e+03 4.12600149e+04 4.03846560e+03 9.97581464e+05\n",
      "  9.76417104e+04 9.55701760e+03]]\n"
     ]
    }
   ],
   "source": [
    "# Instantiate the class to make polynomial features\n",
    "poly = PolynomialFeatures(degree=2, include_bias=False)\n",
    "\n",
    "# Compute the number of features and transform the training set\n",
    "X_train_mapped = poly.fit_transform(X_train)\n",
    "\n",
    "print(X_train_mapped[:5])"
   ]
  },
  {
   "cell_type": "markdown",
   "id": "ebdd2eeb-565c-4dc0-9575-2226a8281c1f",
   "metadata": {},
   "source": [
    "## Scale the inputs to narrow down range of values"
   ]
  },
  {
   "cell_type": "code",
   "execution_count": 10,
   "id": "87a526ae-0b9e-455e-b66e-597ca7dca7a8",
   "metadata": {},
   "outputs": [
    {
     "name": "stdout",
     "output_type": "stream",
     "text": [
      "[[-0.2390846  -0.75855467 -0.5444125  -1.3235435  -0.42166766 -0.55049932\n",
      "  -0.2456401  -0.88493922 -0.78821997 -0.77596816 -1.44636049 -0.54604253\n",
      "  -1.33218044 -1.29681578]\n",
      " [-1.24797581 -1.13291052  0.6996999   1.16978423 -1.15320612 -1.15942559\n",
      "  -1.24863682 -0.93552564 -1.07283883 -1.12985084 -0.29065527  0.69762358\n",
      "   1.19122585  1.25394985]\n",
      " [-1.74437175 -1.18807875 -0.37050431  1.27103957 -1.37023547 -1.40043856\n",
      "  -1.75656419 -1.62155064 -1.11208729 -1.20565878 -0.29515837 -0.37274549\n",
      "   1.25325492  1.38495536]\n",
      " [-1.51629794 -1.06276806  1.42710433  0.86805692 -1.28222306 -1.27397017\n",
      "  -1.51525651 -1.39618959 -1.02193741 -1.04463638 -0.38702376  1.42899545\n",
      "   0.91412496  0.87626053]\n",
      " [-2.18576166 -1.03203147 -2.42395865  1.66518786 -1.48405299 -1.59400504\n",
      "  -2.20587209 -2.21916921 -0.9992796  -1.08811533  0.10652151 -2.40760381\n",
      "   1.56515794  1.91528772]]\n"
     ]
    }
   ],
   "source": [
    "# Instantiate the class\n",
    "scaler_poly = StandardScaler()\n",
    "\n",
    "# Compute the mean and standard deviation of the training set then transform it\n",
    "X_train_mapped_scaled = scaler_poly.fit_transform(X_train_mapped)\n",
    "\n",
    "# Preview the first 5 elements of the scaled training set.\n",
    "print(X_train_mapped_scaled[:5])"
   ]
  },
  {
   "cell_type": "markdown",
   "id": "b8445414-8a43-4063-9965-2b6f239a0614",
   "metadata": {},
   "source": [
    "## Train the model and measure model performance"
   ]
  },
  {
   "cell_type": "code",
   "execution_count": 11,
   "id": "2c6a8e19-439e-4e00-8a1b-8aababe0cabf",
   "metadata": {},
   "outputs": [
    {
     "name": "stdout",
     "output_type": "stream",
     "text": [
      "Training MSE: 9.175477834371003\n",
      "Cross validation MSE: 8.659131787399472\n"
     ]
    }
   ],
   "source": [
    "# Initialize the class\n",
    "model = LinearRegression()\n",
    "\n",
    "# Train the model\n",
    "model.fit(X_train_mapped_scaled, y_train )\n",
    "\n",
    "# Compute the training MSE\n",
    "yhat = model.predict(X_train_mapped_scaled)\n",
    "print(f\"Training MSE: {mean_squared_error(y_train, yhat) / 2}\")\n",
    "\n",
    "# Add the polynomial features to the cross validation set\n",
    "X_cv_mapped = poly.transform(X_cv)\n",
    "\n",
    "# Scale the cross validation set using the mean and standard deviation of the training set\n",
    "X_cv_mapped_scaled = scaler_poly.transform(X_cv_mapped)\n",
    "\n",
    "# Compute the cross validation MSE\n",
    "yhat = model.predict(X_cv_mapped_scaled)\n",
    "print(f\"Cross validation MSE: {mean_squared_error(y_cv, yhat) / 2}\")"
   ]
  },
  {
   "cell_type": "markdown",
   "id": "6e01f03f-104d-4a17-a9a9-ea13db68f615",
   "metadata": {},
   "source": [
    "## Introduce more polynomial terms to compare performance of MSE"
   ]
  },
  {
   "cell_type": "code",
   "execution_count": 12,
   "id": "1b12e0b5-2afe-4350-9610-5008f75c4e33",
   "metadata": {},
   "outputs": [
    {
     "data": {
      "image/png": "[encoded data removed]",
      "text/plain": [
       "<Figure size 800x500 with 1 Axes>"
      ]
     },
     "metadata": {},
     "output_type": "display_data"
    }
   ],
   "source": [
    "# Initialize lists containing the lists, models, and scalers\n",
    "train_mses = []\n",
    "cv_mses = []\n",
    "models = []\n",
    "scalers = []\n",
    "\n",
    "# Loop over 10 times. Each adding one more degree of polynomial higher than the last.\n",
    "for degree in range(1,11):\n",
    "    \n",
    "    # Add polynomial features to the training set\n",
    "    poly = PolynomialFeatures(degree, include_bias=False)\n",
    "    X_train_mapped = poly.fit_transform(X_train)\n",
    "    \n",
    "    # Scale the training set\n",
    "    scaler_poly = StandardScaler()\n",
    "    X_train_mapped_scaled = scaler_poly.fit_transform(X_train_mapped)\n",
    "    scalers.append(scaler_poly)\n",
    "    \n",
    "    # Create and train the model\n",
    "    model = LinearRegression()\n",
    "    model.fit(X_train_mapped_scaled, y_train )\n",
    "    models.append(model)\n",
    "    \n",
    "    # Compute the training MSE\n",
    "    yhat = model.predict(X_train_mapped_scaled)\n",
    "    train_mse = mean_squared_error(y_train, yhat) / 2\n",
    "    train_mses.append(train_mse)\n",
    "    \n",
    "    # Add polynomial features and scale the cross validation set\n",
    "    poly = PolynomialFeatures(degree, include_bias=False)\n",
    "    X_cv_mapped = poly.fit_transform(X_cv)\n",
    "    X_cv_mapped_scaled = scaler_poly.transform(X_cv_mapped)\n",
    "    \n",
    "    # Compute the cross validation MSE\n",
    "    yhat = model.predict(X_cv_mapped_scaled)\n",
    "    cv_mse = mean_squared_error(y_cv, yhat) / 2\n",
    "    cv_mses.append(cv_mse)\n",
    "    \n",
    "# Plot the results\n",
    "degrees=range(1,11)\n",
    "plt.figure(figsize=(8, 5))  # Adjust figure size as needed\n",
    "\n",
    "plt.plot(degrees, train_mses, label='Training MSE', marker='o')\n",
    "plt.plot(degrees, cv_mses, label='Cross-Validation MSE', marker='x')\n",
    "\n",
    "plt.xlabel('Polynomial Degree')\n",
    "plt.ylabel('MSE')\n",
    "plt.title('MSE vs. Polynomial Degree')\n",
    "\n",
    "plt.legend()\n",
    "plt.grid(True)\n",
    "plt.show()"
   ]
  },
  {
   "cell_type": "markdown",
   "id": "d80b5a89-9eda-4ad8-901a-71d01278e17b",
   "metadata": {},
   "source": [
    "## Choosing the best model"
   ]
  },
  {
   "cell_type": "code",
   "execution_count": 13,
   "id": "eff209a0-3b89-4d65-afb3-ee615392a827",
   "metadata": {},
   "outputs": [
    {
     "name": "stdout",
     "output_type": "stream",
     "text": [
      "Lowest CV MSE is found in the model with degree=6\n"
     ]
    }
   ],
   "source": [
    "# Get the model with the lowest CV MSE (add 1 because list indices start at 0)\n",
    "# This also corresponds to the degree of the polynomial added\n",
    "degree = np.argmin(cv_mses) + 1\n",
    "print(f\"Lowest CV MSE is found in the model with degree={degree}\")"
   ]
  },
  {
   "cell_type": "markdown",
   "id": "7a50806f-9e72-4406-978d-7e744d0bc7ab",
   "metadata": {},
   "source": [
    "## Compute the test set's MSE"
   ]
  },
  {
   "cell_type": "code",
   "execution_count": 14,
   "id": "292faf23-ae7c-4c6a-8326-1e5bb48357a7",
   "metadata": {},
   "outputs": [
    {
     "name": "stdout",
     "output_type": "stream",
     "text": [
      "Training MSE: 7.677341713622295\n",
      "Cross Validation MSE: 7.644479454276846\n",
      "Test MSE: 7.928170995905389\n"
     ]
    }
   ],
   "source": [
    "# Add polynomial features to the test set\n",
    "poly = PolynomialFeatures(degree, include_bias=False)\n",
    "X_test_mapped = poly.fit_transform(X_test)\n",
    "\n",
    "# Scale the test set\n",
    "X_test_mapped_scaled = scalers[degree-1].transform(X_test_mapped)\n",
    "\n",
    "# Compute the test MSE\n",
    "yhat = models[degree-1].predict(X_test_mapped_scaled)\n",
    "test_mse = mean_squared_error(y_test, yhat) / 2\n",
    "\n",
    "print(f\"Training MSE: {train_mses[degree-1]}\")\n",
    "print(f\"Cross Validation MSE: {cv_mses[degree-1]}\")\n",
    "print(f\"Test MSE: {test_mse}\")"
   ]
  },
  {
   "cell_type": "code",
   "execution_count": null,
   "id": "3348f4d2-f90b-457b-a643-e0951e7abf07",
   "metadata": {},
   "outputs": [],
   "source": []
  }
 ],
 "metadata": {
  "kernelspec": {
   "display_name": "Python 3 (ipykernel)",
   "language": "python",
   "name": "python3"
  },
  "language_info": {
   "codemirror_mode": {
    "name": "ipython",
    "version": 3
   },
   "file_extension": ".py",
   "mimetype": "text/x-python",
   "name": "python",
   "nbconvert_exporter": "python",
   "pygments_lexer": "ipython3",
   "version": "3.8.2"
  }
 },
 "nbformat": 4,
 "nbformat_minor": 5
}
